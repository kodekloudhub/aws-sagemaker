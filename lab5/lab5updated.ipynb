{
 "cells": [
  {
   "cell_type": "markdown",
   "id": "dfff50b4",
   "metadata": {},
   "source": [
    "# Deploying a Model Using SageMaker Endpoints\n",
    "\n",
    "This notebook demonstrates how to register a model in the SageMaker Model Registry and then deploy it as a SageMaker Endpoint.\n",
    "\n",
    "We'll walk through the following steps:\n",
    "1. Set up necessary imports and configurations.\n",
    "2. Register a model in the SageMaker Model Registry.\n",
    "3. Retrieve the model from the SageMaker Model Registry.\n",
    "4. Create an endpoint configuration.\n",
    "5. Deploy the model as a SageMaker Endpoint.\n",
    "6. Make predictions using the endpoint.\n",
    "\n",
    "This example assumes that the model is a linear regression model trained using the Linear Learner algorithm and is for house price prediction based on input data in CSV format."
   ]
  },
  {
   "cell_type": "markdown",
   "id": "c37694d8-e10b-422f-9d52-05f67d3c3d2a",
   "metadata": {},
   "source": [
    "# Step 1: Import Libraries and Get Role\n",
    "Firstly we need to import the SageMaker SDK for Python packages we are going to need as well as specify what S3 bucket we will be using."
   ]
  },
  {
   "cell_type": "code",
   "execution_count": null,
   "id": "71659c6b",
   "metadata": {},
   "outputs": [],
   "source": [
    "# Step 1: Import necessary libraries\n",
    "import boto3\n",
    "import time\n",
    "import sagemaker\n",
    "from sagemaker import get_execution_role\n",
    "from sagemaker.session import Session\n",
    "from sagemaker import Model\n",
    "from sagemaker import ModelPackage\n",
    "\n",
    "# Define your SageMaker session and role\n",
    "sagemaker_session = Session()\n",
    "role = get_execution_role()\n",
    "\n",
    "# Define S3 bucket and prefix\n",
    "s3_bucket = sagemaker_session.default_bucket()\n",
    "s3_prefix = '/model'\n",
    "\n",
    "print(role)"
   ]
  },
  {
   "cell_type": "markdown",
   "id": "31e18da9-b671-44aa-8bf4-23c150b86962",
   "metadata": {},
   "source": [
    "# Step 2: Register Model Package\n",
    "We have the model.tgz artifact created by the training process in lab4 present here in the file system of our JupyterLab host. But we want it in an accessible location for registration into the model registry and for use by SageMaker Endpoints.\n",
    "\n",
    "In this lab, we are now in a new environment and SageMaker doesn't know about our model artifact. So we need to wrap that artifact up and save as what is called a model package. This will make SageMaker aware of the model package and we can start to reference it.\n",
    "\n",
    "Now, SageMaker Model Registry is now our go-to location for storing all metadata about models and we will be using it in this lab. However, its important to understand why artifacts show up in specific locations in the UI. Remember we had SageMaker Notebooks, Training Jobs and Inference long before we had SageMaker Studio? Well, we are going to create a model package so that SageMaker can reference our model and use it for creating entities like endpoints for inference.\n",
    "\n",
    "Once we have done that, we will then use the newer model registry feature which we find within Sagemaker Studio.\n"
   ]
  },
  {
   "cell_type": "code",
   "execution_count": null,
   "id": "06375e8c-17b3-4c5d-af2f-0116c7ccc8fd",
   "metadata": {},
   "outputs": [],
   "source": [
    "# Upload the model artifact to S3\n",
    "local_file_path = 'model.tar.gz'\n",
    "s3_uri = sagemaker_session.upload_data(local_file_path, bucket=s3_bucket, key_prefix = s3_prefix)\n",
    "print(f\"File uploaded to: {s3_uri}\")\n",
    "model_artifact = f's3://{s3_bucket}/{s3_prefix}/model.tar.gz'\n",
    "\n",
    "# Determine what AWS region we are in\n",
    "region = sagemaker_session.boto_region_name\n",
    "\n",
    "# Retrieve the Linear Learner image URI\n",
    "container_image_uri = sagemaker.image_uris.retrieve(framework=\"linear-learner\", region=region)\n",
    "\n",
    "# Print path to container image\n",
    "print(f\"SageMaker Linear Learner Image URI: {container_image_uri}\")\n",
    "\n",
    "# Assign a meaningful name to the model\n",
    "model_name = 'house-prices'  # Give it a name for identification\n",
    "\n",
    "# Create the SageMaker model\n",
    "model = Model(\n",
    "    image_uri=container_image_uri,  # Use the appropriate image URI for your model's container\n",
    "    model_data=model_artifact,      # Path to the model artifact (model.tgz)\n",
    "    role=get_execution_role(),\n",
    "    name=model_name\n",
    ")\n",
    "\n",
    "# Now, the model will be registered in SageMaker and show up in the management console\n",
    "\n",
    "model.create()\n"
   ]
  },
  {
   "cell_type": "markdown",
   "id": "149a74ef-af50-4d6f-9c7e-4fe9b8188279",
   "metadata": {},
   "source": [
    "Now that might not have seemed exciting, but if you now navigate to the browser tab that shows the AWS management console which should still be open at SageMaker AI we should be able to see our model. If you look to the left side navigation bar, under inference heading, there is a menu option called models. Click on that and you can find our model as a SageMaker entity! Click into the details and you will see the container image and S3 location of the model artifact.\n",
    "\n",
    "If you want to see the same thing but in the SageMaker Studio (newer) interface, click on your browser tab that has the Studio open. Below the applications panel in the left side navigation bar, you will see an option called Models. Click into there and you find an empty panel because we are looking at registered models - i.e. a model package that is registered in the SageMaker Model Registry. \n",
    "\n",
    "But the model registry is not a mandatory component. It's optional. So if we want to see our model package that we created (which points at our S3 model artifact), then click on the deployable models tab and there is our model we created!\n"
   ]
  },
  {
   "cell_type": "markdown",
   "id": "67a569da-e112-4807-8737-3a91ee9a6ca7",
   "metadata": {},
   "source": [
    "# Step 2: Create a Model Package Group in SageMaker Model Registry\n",
    "Now, we will start with the Model Registry. Remember, with model registry we get to track our models lineage and have approval associated with them. We could have a governance officer who approves models subject to metrics inspection who has permission to approve. That approve action could then be a CI/CD trigger to deploy a model into a production AWS account!\n",
    "\n",
    "But for now, we are just going to see how we register a model into the model registry with a pending approval status and we will manually approve later on. Before we can register our model however, we need too create a model package group in the model registry first.\n",
    "\n",
    "To work with the model registry, we are going to use the AWS SDK for Python (boto3) rather than the SageMaker SDK for Python. It is common that we have to switch between SDKs to be able to perform specific steps. The SageMaker SDK is great for high level ML actions, while the boto3 SDK is ideal for low level configuration changes.\n"
   ]
  },
  {
   "cell_type": "code",
   "execution_count": null,
   "id": "83aac64a-26d1-4bd6-aa35-f385ca1e9a16",
   "metadata": {},
   "outputs": [],
   "source": [
    "# Create a model package group\n",
    "model_package_group_name = 'house-price-prediction-group'\n",
    "model_package_group_description = 'KodeKloud Demystifying SageMaker model package group for house price prediction'\n",
    "sagemaker_client = boto3.client('sagemaker')\n",
    "\n",
    "try:\n",
    "    sagemaker_client.create_model_package_group(\n",
    "        ModelPackageGroupName=model_package_group_name,\n",
    "        ModelPackageGroupDescription=model_package_group_description\n",
    "    )\n",
    "    print(f'Created Model Package Group: {model_package_group_name}')\n",
    "    \n",
    "except sagemaker_client.exceptions.ResourceInUse:\n",
    "    print(f'Model Package Group {model_package_group_name} already exists.')\n"
   ]
  },
  {
   "cell_type": "markdown",
   "id": "d98052b1-70d8-47aa-af5b-f4669ec7dd91",
   "metadata": {},
   "source": [
    "# Step 3: Register Model into SageMaker Model Registry\n",
    "Ok, now we have a model registry model group, but its empty. You can switch browser tabs to SageMaker Studio and check under Models item in the left navigation menu and see the house price prediction group.\n",
    "\n",
    "Next we will register our model into this newly created model group. We will register the model with a status of pending approval, thereby requiring us to do a manual approval before we use it."
   ]
  },
  {
   "cell_type": "code",
   "execution_count": null,
   "id": "b2a39f55-9371-49e6-b22d-2196a6634ecd",
   "metadata": {},
   "outputs": [],
   "source": [
    "# Register the model\n",
    "\n",
    "model_approval_status = \"PendingManualApproval\"\n",
    "customer_metadata_properties = {\"ModelType\": \"HousePricePrediction\"}\n",
    "\n",
    "model_package = model.register(\n",
    "    content_types=[\"text/csv\"],\n",
    "    response_types=[\"text/csv\"],\n",
    "    inference_instances=[\"ml.m5.large\", \"ml.m5.large\"],\n",
    "    transform_instances=[\"ml.m5.large\"],\n",
    "    model_package_group_name=model_package_group_name,\n",
    "    approval_status=model_approval_status,\n",
    "    customer_metadata_properties=customer_metadata_properties,\n",
    ")\n",
    "\n",
    "print(f\"Model package version ARN: {model_package.model_package_arn}\")\n"
   ]
  },
  {
   "cell_type": "markdown",
   "id": "1f3a9c51",
   "metadata": {},
   "source": [
    "## Step 4: Retrieve the Model from the SageMaker Model Registry\n",
    "In the previous step, we registered our model to the model registry. This will help us track versions of the model over time and help us with approval for use. The model was registered to the registry in a pending approval state. This means it can't be used yet.\n",
    "\n",
    "So before we run the next code cell, go to the SageMaker Studio console tab of your browser and locate the model in your model registry.\n",
    "This will be under Models -> Model Groups -> house-price-prediction-group -> Version 1\n",
    "\n",
    "On the right side of the interface you will see a box marked Deploy and the approval status of the model showing as Pending Approval. Click on this to see the drop down list of options. Change the status from Pending approval to Approved and accept the pop up warning.\n",
    "\n",
    "\n",
    "We will retrieve the registered model package from the model package group."
   ]
  },
  {
   "cell_type": "code",
   "execution_count": null,
   "id": "37f3874c",
   "metadata": {},
   "outputs": [],
   "source": [
    "# Fetch the latest approved model package from the model registry\n",
    "response = sagemaker_client.list_model_packages(\n",
    "    ModelPackageGroupName=model_package_group_name,\n",
    "    ModelApprovalStatus='Approved',\n",
    "    SortBy='CreationTime',\n",
    "    SortOrder='Descending'\n",
    ")\n",
    "\n",
    "latest_model_package_arn = response['ModelPackageSummaryList'][0]['ModelPackageArn']\n",
    "print(f'Latest Approved Model Package ARN: {latest_model_package_arn}')"
   ]
  },
  {
   "cell_type": "markdown",
   "id": "38423d18",
   "metadata": {},
   "source": [
    "## Step 5: Create an Endpoint Configuration\n",
    "At the end of lab 4 when we were testing our model inference capability after training, we made use of SageMaker SDK for Python a high level class called the Predictor class. This class abstracts the detail of creating a SageMaker Endpoint config and then a SageMaker Endpoint using that config. That approach using the SageMaker SDK offers several advantages:\n",
    "\n",
    "Simplicity: It abstracts away many of the lower-level details that you'd need to manage with boto3.\n",
    "Consistency: It provides a consistent interface for various SageMaker operations.\n",
    "Integration: It integrates well with other SageMaker features and workflows.\n",
    "\n",
    "However, we have seen that method already. So in this lab we are going to create the endpoint configuration and the endpoint separately so you can see both methods. This does mean we are going to be using boto3 for this more explicit deployment.\n"
   ]
  },
  {
   "cell_type": "code",
   "execution_count": null,
   "id": "ccdd0c63-7843-4520-87a9-9a9f4652df43",
   "metadata": {},
   "outputs": [],
   "source": [
    "# Create Endpoint Config\n",
    "\n",
    "endpoint_config_name = \"house-price-endpoint-config\"\n",
    "\n",
    "create_endpoint_config_response = sagemaker_client.create_endpoint_config(\n",
    "    EndpointConfigName=endpoint_config_name,\n",
    "    ProductionVariants=[{\n",
    "        'InstanceType': 'ml.m5.large',\n",
    "        'InitialVariantWeight': 1,\n",
    "        'InitialInstanceCount': 1,\n",
    "        'ModelName': model_name,\n",
    "        'VariantName': 'AllTraffic'\n",
    "    }]\n",
    ")\n",
    "\n",
    "print(f\"Endpoint configuration created: {create_endpoint_config_response['EndpointConfigArn']}\")"
   ]
  },
  {
   "cell_type": "markdown",
   "id": "613cfebd-890b-407b-a002-31570257a156",
   "metadata": {},
   "source": [
    "To check we successfully created an endpoint configuration, lets switch browser tabs to our AWS Management Console which should be open at SageMaker AI. In the navigation bar on the left, click on Inference and then endpoint configurations and you will see your newly created endpoint config.\n",
    "\n",
    "At this point, we have only defined the configuration of an endpoint, not an endpoint itself. We still need to create an endpoint that references this endpoint configuration.\n",
    "\n",
    "In the future you may wish to update an endpoint to swap it over to a new alternative endpoint configuration.\n"
   ]
  },
  {
   "cell_type": "markdown",
   "id": "7f6f874b",
   "metadata": {},
   "source": [
    "## Step 6: Create the Endpoint\n",
    "The endpoint is the actual service that serves predictions using your deployed model.\n",
    "This can take up to 10minutes to create and be reported as InService."
   ]
  },
  {
   "cell_type": "code",
   "execution_count": null,
   "id": "2a1214fc",
   "metadata": {},
   "outputs": [],
   "source": [
    "# Define endpoint name\n",
    "endpoint_name = 'house-price-prediction-endpoint'\n",
    "\n",
    "# Create the endpoint\n",
    "sagemaker_client.create_endpoint(\n",
    "    EndpointName=endpoint_name,\n",
    "    EndpointConfigName=endpoint_config_name\n",
    ")\n",
    "print(f'Creating endpoint: {endpoint_name}')"
   ]
  },
  {
   "cell_type": "markdown",
   "id": "5f86719b",
   "metadata": {},
   "source": [
    "## Step 6: Test the Endpoint\n",
    "Now that the endpoint is deployed, we can send input data for inference and get predictions.\n",
    "Note, we have some ready made data which will generate a price prediction. A CSV schema is in the code cell, so adjust values and get different results from our model!\n"
   ]
  },
  {
   "cell_type": "code",
   "execution_count": null,
   "id": "20d7e35c",
   "metadata": {},
   "outputs": [],
   "source": [
    "import json\n",
    "import numpy as np\n",
    "\n",
    "# Prepare sample input data\n",
    "# lattitude, longtitude, bathrooms, bedrooms, floorsq, livingrooms, valuechange, percentagechange, historyprice, historypercent, historynumeric, postcode_encoded, country,fue,free,lease,shared, 19 types, 7 energy, 3 confidence \n",
    "\n",
    "input_data = '51.6215527,-0.2466031,2.0,6.0,517.0,3.0,289000.0,27.39336492890996,1055000.0,37.01298701298701,285000.0,1354000.0,1.0,0.0,1.0,0.0,0.0,0.0,0.0,0.0,0.0,0.0,0.0,0.0,0.0,0.0,0.0,0.0,0.0,0.0,0.0,1.0,0.0,0.0,0.0,0.0,0.0,0.0,0.0,1.0,0.0,0.0,0.0,1.0,0.0,0.0'\n",
    "\n",
    "# Create runtime client\n",
    "runtime_client = boto3.client('sagemaker-runtime')\n",
    "\n",
    "# Make the prediction\n",
    "response = runtime_client.invoke_endpoint(\n",
    "    EndpointName=endpoint_name,\n",
    "    ContentType='text/csv',\n",
    "    Body=input_data\n",
    ")\n",
    "\n",
    "# Decode the response\n",
    "prediction = response['Body'].read().decode('utf-8')\n",
    "print(f'Predicted house price: {prediction}')"
   ]
  },
  {
   "cell_type": "markdown",
   "id": "5cb630b7-4ba4-41dc-b722-a5de161ea296",
   "metadata": {},
   "source": [
    "# Clean Up\n",
    "Let's now clean up our resources.\n",
    "We need to delete our endpoint so we stop incurring any charges. But we will also delete the endpoint config."
   ]
  },
  {
   "cell_type": "code",
   "execution_count": null,
   "id": "609fdb7d",
   "metadata": {},
   "outputs": [],
   "source": [
    "# Step 1: Delete the endpoint\n",
    "print(f\"Deleting endpoint: {endpoint_name}\")\n",
    "sagemaker_client.delete_endpoint(EndpointName=endpoint_name)\n",
    "\n",
    "# Wait for the endpoint to be deleted\n",
    "while True:\n",
    "    try:\n",
    "        sagemaker_client.describe_endpoint(EndpointName=endpoint_name)\n",
    "        print(\"Endpoint is still being deleted. Waiting...\")\n",
    "        time.sleep(30)\n",
    "    except sagemaker_client.exceptions.ClientError as e:\n",
    "        if e.response['Error']['Code'] == 'ValidationException':\n",
    "            print(\"Endpoint deleted successfully.\")\n",
    "            break\n",
    "\n",
    "# Step 2: Delete the endpoint configuration\n",
    "try:\n",
    "    print(f\"Deleting endpoint configuration: {endpoint_config_name}\")\n",
    "    sagemaker_client.delete_endpoint_config(EndpointConfigName=endpoint_config_name)\n",
    "    print(\"Endpoint configuration deleted successfully.\")\n",
    "except sagemaker_client.exceptions.ClientError as e:\n",
    "    if e.response['Error']['Code'] == 'ValidationException':\n",
    "        print(\"Endpoint configuration not found or already deleted.\")\n",
    "\n",
    "print(\"Cleanup complete.\")"
   ]
  }
 ],
 "metadata": {
  "kernelspec": {
   "display_name": "Python 3 (ipykernel)",
   "language": "python",
   "name": "python3"
  },
  "language_info": {
   "codemirror_mode": {
    "name": "ipython",
    "version": 3
   },
   "file_extension": ".py",
   "mimetype": "text/x-python",
   "name": "python",
   "nbconvert_exporter": "python",
   "pygments_lexer": "ipython3",
   "version": "3.11.10"
  }
 },
 "nbformat": 4,
 "nbformat_minor": 5
}
